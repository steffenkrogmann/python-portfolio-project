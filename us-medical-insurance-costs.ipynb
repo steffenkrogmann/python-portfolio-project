{
 "cells": [
  {
   "cell_type": "markdown",
   "metadata": {},
   "source": [
    "# U.S. Medical Insurance Costs"
   ]
  },
  {
   "cell_type": "markdown",
   "metadata": {},
   "source": [
    "### 1. Goal | Research Questions (from Grok)\n",
    "1. What is the average insurance charge for individuals under 30 years old?\n",
    "2. How many individuals are smokers in the dataset?\n",
    "3. What is the total number of children for all individuals in a specific region (e.g., “southwest”)?\n",
    "4. Which sex (male or female) has the higher average insurance charge?\n",
    "5. How many individuals have a BMI greater than 30?\n",
    "6. What is the highest insurance charge for nonsmokers?\n",
    "7. How many individuals in each region have exactly 0 children?\n",
    "8. What is the average age of smokers versus nonsmokers?\n",
    "9. How many individuals have charges above $10,000 and are female?\n",
    "10. What is the lowest insurance charge for individuals with more than 2 children?"
   ]
  },
  {
   "cell_type": "markdown",
   "metadata": {},
   "source": [
    "### 2. Prepare Data for Analysis"
   ]
  },
  {
   "cell_type": "markdown",
   "metadata": {},
   "source": [
    "#### 2.1 Create List of Insurance Data"
   ]
  },
  {
   "cell_type": "code",
   "execution_count": 1,
   "metadata": {},
   "outputs": [],
   "source": [
    "import csv\n",
    "\n",
    "insurance_data = []\n",
    "with open(\"insurance.csv\") as insurance_csv:\n",
    "    insurance_reader = csv.DictReader(insurance_csv)\n",
    "    for row in insurance_reader:\n",
    "        insurance_data.append(row)\n",
    "#print(insurance_data)\n",
    "#print(len(insurance_data))\n",
    "#print(insurance_data[0].keys())"
   ]
  },
  {
   "cell_type": "markdown",
   "metadata": {},
   "source": [
    "#### 2.2 Create Lists for Individual Features "
   ]
  },
  {
   "cell_type": "code",
   "execution_count": 2,
   "metadata": {},
   "outputs": [],
   "source": [
    "ages = []\n",
    "sexes = []\n",
    "bmis = []\n",
    "num_children = []\n",
    "smoker_status = []\n",
    "regions = []\n",
    "all_charges = []\n",
    "\n",
    "for record in insurance_data:\n",
    "    ages.append(int(record[\"age\"]))\n",
    "    sexes.append(record[\"sex\"])\n",
    "    bmis.append(float(record[\"bmi\"]))\n",
    "    num_children.append(int(record[\"children\"]))\n",
    "    smoker_status.append(record[\"smoker\"])\n",
    "    regions.append(record[\"region\"])\n",
    "    all_charges.append(float(record[\"charges\"]))\n",
    "\n",
    "#print(ages)\n",
    "#print(sexes)\n",
    "#print(bmis)\n",
    "#print(num_children)\n",
    "#print(smoker_status)\n",
    "#print(regions)\n",
    "#print(all_charges)"
   ]
  },
  {
   "cell_type": "code",
   "execution_count": 3,
   "metadata": {},
   "outputs": [],
   "source": [
    "insurance_db = []\n",
    "\n",
    "for i in range(len(all_charges)):\n",
    "    record = {}\n",
    "    \n",
    "    record[\"age\"] = ages[i]\n",
    "    record[\"sex\"] = sexes[i]\n",
    "    record[\"bmi\"] = bmis[i]\n",
    "    record[\"children\"] = num_children[i]\n",
    "    record[\"smoker\"] = smoker_status[i]\n",
    "    record[\"region\"] = regions[i]\n",
    "    record[\"charges\"] = all_charges[i]\n",
    "    insurance_db.append(record)\n",
    "#print(insurance_db)\n"
   ]
  },
  {
   "cell_type": "markdown",
   "metadata": {},
   "source": [
    "### 3. Analysis"
   ]
  },
  {
   "cell_type": "markdown",
   "metadata": {},
   "source": [
    "#### Question 1: What is the average insurance charge for individuals under 30 years old?"
   ]
  },
  {
   "cell_type": "code",
   "execution_count": 4,
   "metadata": {},
   "outputs": [
    {
     "name": "stdout",
     "output_type": "stream",
     "text": [
      "9182\n"
     ]
    }
   ],
   "source": [
    "sum_charges_under_30_years_old = 0\n",
    "num_charges_under_30_years_old = 0\n",
    "for i in range(len(ages)):\n",
    "    if ages[i] < 30:\n",
    "        sum_charges_under_30_years_old += all_charges[i]\n",
    "        num_charges_under_30_years_old += 1\n",
    "        \n",
    "average_charge_under_30_years_old = round(sum_charges_under_30_years_old / num_charges_under_30_years_old)\n",
    "print(average_charge_under_30_years_old)"
   ]
  },
  {
   "cell_type": "markdown",
   "metadata": {},
   "source": [
    "##### Answer 1: The average charge for individuals under 30 years old is 9182 dollars."
   ]
  },
  {
   "cell_type": "markdown",
   "metadata": {},
   "source": [
    "#### Question 2: How many individuals are smokers in the dataset?"
   ]
  },
  {
   "cell_type": "code",
   "execution_count": 5,
   "metadata": {},
   "outputs": [
    {
     "name": "stdout",
     "output_type": "stream",
     "text": [
      "274\n"
     ]
    }
   ],
   "source": [
    "num_smokers = 0\n",
    "for i in range(len(smoker_status)):\n",
    "    if smoker_status[i] == \"yes\":\n",
    "        num_smokers += 1\n",
    "\n",
    "print(num_smokers)\n",
    "    "
   ]
  },
  {
   "cell_type": "markdown",
   "metadata": {},
   "source": [
    "##### Answer 2: There are 274 individuals who are smokers."
   ]
  },
  {
   "cell_type": "markdown",
   "metadata": {},
   "source": [
    "#### Question 3: What is the total number of children for all individuals in a specific region (e.g., “southwest”)?"
   ]
  },
  {
   "cell_type": "code",
   "execution_count": 6,
   "metadata": {},
   "outputs": [
    {
     "name": "stdout",
     "output_type": "stream",
     "text": [
      "{'southwest': 371, 'southeast': 382, 'northwest': 373, 'northeast': 339}\n"
     ]
    }
   ],
   "source": [
    "children_per_region = {}\n",
    "\n",
    "for record in insurance_data:\n",
    "    region = record[\"region\"]\n",
    "    if region in children_per_region:\n",
    "        children_per_region[region] += int(record[\"children\"])\n",
    "    else:\n",
    "        children_per_region[region] = int(record[\"children\"])\n",
    "\n",
    "\n",
    "print(children_per_region)"
   ]
  },
  {
   "cell_type": "markdown",
   "metadata": {},
   "source": [
    "##### Answer 3: There are 371 children in the southwest, 382 in the southeast, 373 in the northwest and 339 in the northeast."
   ]
  },
  {
   "cell_type": "markdown",
   "metadata": {},
   "source": [
    "#### Question 4: Which sex (male or female) has the higher average insurance charge?"
   ]
  },
  {
   "cell_type": "code",
   "execution_count": 7,
   "metadata": {},
   "outputs": [
    {
     "name": "stdout",
     "output_type": "stream",
     "text": [
      "13957\n",
      "12570\n"
     ]
    }
   ],
   "source": [
    "male_total_charge = 0\n",
    "female_total_charge = 0\n",
    "male_count = 0\n",
    "female_count = 0\n",
    "\n",
    "for i in range(len(sexes)):\n",
    "    if sexes[i] == \"male\":\n",
    "        male_total_charge += all_charges[i]\n",
    "        male_count += 1\n",
    "    elif sexes[i] == \"female\":\n",
    "        female_total_charge += all_charges[i]\n",
    "        female_count += 1\n",
    "\n",
    "male_avg_charge = round(male_total_charge / male_count)\n",
    "female_avg_charge = round(female_total_charge / female_count)\n",
    "print(male_avg_charge)\n",
    "print(female_avg_charge)"
   ]
  },
  {
   "cell_type": "markdown",
   "metadata": {
    "jp-MarkdownHeadingCollapsed": true
   },
   "source": [
    "##### Answer 4: The average charge is 13,957 USD for men and 12,570 USD for women. So men have a higher average insurance charge."
   ]
  },
  {
   "cell_type": "markdown",
   "metadata": {},
   "source": [
    "#### Question 5: How many individuals have a BMI greater than 30?"
   ]
  },
  {
   "cell_type": "code",
   "execution_count": 8,
   "metadata": {},
   "outputs": [
    {
     "name": "stdout",
     "output_type": "stream",
     "text": [
      "705\n"
     ]
    }
   ],
   "source": [
    "def count_individuals_bmi_over_30(insurance_db):\n",
    "    count = 0\n",
    "    for record in insurance_db:\n",
    "        if record[\"bmi\"] > 30:\n",
    "            count += 1\n",
    "    return count\n",
    "\n",
    "count_individuals_bmi_over_30 = count_individuals_bmi_over_30(insurance_db)\n",
    "print(count_individuals_bmi_over_30)"
   ]
  },
  {
   "cell_type": "markdown",
   "metadata": {
    "jp-MarkdownHeadingCollapsed": true
   },
   "source": [
    "##### Answer 5: There are 705 individuals with a BMI over 30"
   ]
  },
  {
   "cell_type": "markdown",
   "metadata": {},
   "source": [
    "#### Question 6: What is the highest insurance charge for nonsmokers?"
   ]
  },
  {
   "cell_type": "code",
   "execution_count": 9,
   "metadata": {},
   "outputs": [
    {
     "name": "stdout",
     "output_type": "stream",
     "text": [
      "36911\n"
     ]
    }
   ],
   "source": [
    "highest_charge_nonsmokers = 0\n",
    "for record in insurance_db:\n",
    "    if record[\"smoker\"] == \"no\" and record[\"charges\"] > highest_charge_nonsmokers:\n",
    "        highest_charge_nonsmokers = record[\"charges\"]\n",
    "highest_charge_nonsmokers = round(highest_charge_nonsmokers)\n",
    "print(highest_charge_nonsmokers)"
   ]
  },
  {
   "cell_type": "markdown",
   "metadata": {
    "jp-MarkdownHeadingCollapsed": true
   },
   "source": [
    "##### Answer 6: The highest insurance charge for nonsmokers is 36,911 USD."
   ]
  },
  {
   "cell_type": "markdown",
   "metadata": {},
   "source": [
    "#### Question 7: How many individuals in each region have exactly 0 children?"
   ]
  },
  {
   "cell_type": "code",
   "execution_count": 10,
   "metadata": {},
   "outputs": [
    {
     "name": "stdout",
     "output_type": "stream",
     "text": [
      "{'southwest': 138, 'northwest': 132, 'southeast': 157, 'northeast': 147}\n"
     ]
    }
   ],
   "source": [
    "def individuals_with_no_children_per_region(insurance_db):\n",
    "    individuals_per_region = {}\n",
    "    for record in insurance_db:\n",
    "        if record[\"children\"] > 0:\n",
    "            continue\n",
    "        region = record[\"region\"]\n",
    "        if region in individuals_per_region:\n",
    "            individuals_per_region[region] += 1\n",
    "        else:\n",
    "            individuals_per_region[region] = 1\n",
    "    return individuals_per_region\n",
    "\n",
    "individuals_with_no_children_per_region = individuals_with_no_children_per_region(insurance_db)\n",
    "print(individuals_with_no_children_per_region)\n",
    "        "
   ]
  },
  {
   "cell_type": "markdown",
   "metadata": {},
   "source": [
    "##### Answer 7: In the southwest there are 138 individuals with no children, in the northwest 132, in the southeast 157 and in the northeast 147."
   ]
  },
  {
   "cell_type": "markdown",
   "metadata": {},
   "source": [
    "#### Question 8: What is the average age of smokers versus nonsmokers?"
   ]
  },
  {
   "cell_type": "code",
   "execution_count": 11,
   "metadata": {},
   "outputs": [
    {
     "name": "stdout",
     "output_type": "stream",
     "text": [
      "10553\n",
      "274\n",
      "41906\n",
      "1064\n",
      "The average age of a smoker is 38.51\n",
      "The average age of a non-smoker is 39.39\n"
     ]
    }
   ],
   "source": [
    "def average_age_smoker(insurance_db):\n",
    "    total_age = 0\n",
    "    smoker_count = 0\n",
    "    for record in insurance_db:\n",
    "        if record[\"smoker\"] == \"yes\":\n",
    "            \n",
    "            total_age += record[\"age\"]\n",
    "            smoker_count += 1\n",
    "    print(total_age)\n",
    "    print(smoker_count)\n",
    "    return round(total_age / smoker_count,2)\n",
    "\n",
    "def average_age_nonsmoker(insurance_db):\n",
    "    total_age = 0\n",
    "    nonsmoker_count = 0\n",
    "    for record in insurance_db:\n",
    "        if record[\"smoker\"] == \"no\":\n",
    "            total_age += record[\"age\"]\n",
    "            nonsmoker_count += 1\n",
    "    print(total_age)\n",
    "    print(nonsmoker_count)\n",
    "    return round(total_age / nonsmoker_count,2)\n",
    "\n",
    "average_age_smoker = average_age_smoker(insurance_db)\n",
    "average_age_nonsmoker = average_age_nonsmoker(insurance_db)\n",
    "print(\"The average age of a smoker is \" + str(average_age_smoker))\n",
    "print(\"The average age of a non-smoker is \" + str(average_age_nonsmoker))"
   ]
  },
  {
   "cell_type": "markdown",
   "metadata": {},
   "source": [
    "##### Answer 8: The average age of smokers and non-smokers is 39 years for both."
   ]
  },
  {
   "cell_type": "markdown",
   "metadata": {},
   "source": [
    "#### Question 9: How many individuals have charges above $10,000 and are female?"
   ]
  },
  {
   "cell_type": "code",
   "execution_count": 12,
   "metadata": {},
   "outputs": [
    {
     "name": "stdout",
     "output_type": "stream",
     "text": [
      "307\n"
     ]
    }
   ],
   "source": [
    "females_over_10k_charges = 0\n",
    "\n",
    "for record in insurance_db: \n",
    "    if record[\"sex\"] == \"female\" and record[\"charges\"] > 10000:\n",
    "        females_over_10k_charges += 1\n",
    "\n",
    "print(females_over_10k_charges)"
   ]
  },
  {
   "cell_type": "markdown",
   "metadata": {},
   "source": [
    "##### Answer 9: There are 307 females with charges over 10,000 USD."
   ]
  },
  {
   "cell_type": "markdown",
   "metadata": {},
   "source": [
    "#### Question 10: What is the lowest insurance charge for individuals with more than 2 children?"
   ]
  },
  {
   "cell_type": "code",
   "execution_count": 13,
   "metadata": {},
   "outputs": [
    {
     "name": "stdout",
     "output_type": "stream",
     "text": [
      "3443\n"
     ]
    }
   ],
   "source": [
    "lowest_charge = 9999999\n",
    "\n",
    "for record in insurance_db:\n",
    "    if record[\"children\"] > 2 and record[\"charges\"] < lowest_charge:\n",
    "        lowest_charge = round(record[\"charges\"])\n",
    "print(lowest_charge)"
   ]
  },
  {
   "cell_type": "markdown",
   "metadata": {},
   "source": [
    "##### Answer 10: The lowest charge for individuals with more than 2 children is 3443 USD."
   ]
  }
 ],
 "metadata": {
  "kernelspec": {
   "display_name": "Python [conda env:base] *",
   "language": "python",
   "name": "conda-base-py"
  },
  "language_info": {
   "codemirror_mode": {
    "name": "ipython",
    "version": 3
   },
   "file_extension": ".py",
   "mimetype": "text/x-python",
   "name": "python",
   "nbconvert_exporter": "python",
   "pygments_lexer": "ipython3",
   "version": "3.13.5"
  }
 },
 "nbformat": 4,
 "nbformat_minor": 4
}
